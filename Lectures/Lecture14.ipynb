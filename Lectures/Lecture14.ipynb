{
 "cells": [
  {
   "cell_type": "markdown",
   "metadata": {
    "slideshow": {
     "slide_type": "skip"
    }
   },
   "source": [
    "Lecture 14: The Long Term Carbon Cycle"
   ]
  },
  {
   "cell_type": "code",
   "execution_count": 1,
   "metadata": {
    "slideshow": {
     "slide_type": "skip"
    }
   },
   "outputs": [
    {
     "name": "stdout",
     "output_type": "stream",
     "text": [
      "Loading page http://localhost:8888/notebooks/Lecture14.ipynb?token=813614e96a7159ad186d8ed7d6e05816c674869e26725869 ...\n",
      "\u001b[38;2;255;165;0mactions\u001b[39m \u001b[38;2;255;165;0mjupyter-notebook:find-and-replace\u001b[39m \u001b[38;2;255;165;0mdoes not exist, still binding it in case it will be defined later...\u001b[39m\n",
      "\u001b[90mload_extensions\u001b[39m \u001b[90m{\u001b[39m\n",
      "\u001b[90m  '0': 'nbextensions_configurator/config_menu/main',\u001b[39m\n",
      "\u001b[90m  '1': 'contrib_nbextensions_help_item/main',\u001b[39m\n",
      "\u001b[90m  '2': 'rise/main',\u001b[39m\n",
      "\u001b[90m  '3': 'jupyter-js-widgets/extension',\u001b[39m\n",
      "\u001b[90m  '4': 'jupyter-black-master/jupyter-black',\u001b[39m\n",
      "\u001b[90m  '5': 'toc2/main',\u001b[39m\n",
      "\u001b[90m  '6': 'hide_code/hide_code',\u001b[39m\n",
      "\u001b[90m  '7': 'hide_input/main',\u001b[39m\n",
      "\u001b[90m  '8': 'codefolding/main',\u001b[39m\n",
      "\u001b[90m  '9': 'splitcell/splitcell'\u001b[39m\n",
      "\u001b[90m}\u001b[39m\n",
      "\u001b[90mLoaded moment locale\u001b[39m \u001b[90men-gb\u001b[39m\n",
      "\u001b[31mFailed to load resource: the server responded with a status of 404 (Not Found)\u001b[39m\n",
      "\u001b[90mHTML Sanitizer\u001b[39m \u001b[90mdiv.style changed\u001b[39m \u001b[90m{\u001b[39m\n",
      "\u001b[90m  change: 'changed',\u001b[39m\n",
      "\u001b[90m  tagName: 'div',\u001b[39m\n",
      "\u001b[90m  attribName: 'style',\u001b[39m\n",
      "\u001b[90m  oldValue: 'background: url(images/Earth.jpg) 30% 60% no-repeat;\\n' +\u001b[39m\n",
      "\u001b[90m    '  width: 1290px;\\n' +\u001b[39m\n",
      "\u001b[90m    '  height: 181px; background-size: 150%;',\u001b[39m\n",
      "\u001b[90m  newValue: 'background: url(\"images/Earth.jpg\") 30% 60% no-repeat ; width: 1290px ; height: 181px ; background-size: 150%'\u001b[39m\n",
      "\u001b[90m}\u001b[39m\n",
      "\u001b[90mHTML Sanitizer\u001b[39m \u001b[90mdiv.style changed\u001b[39m \u001b[90m{\u001b[39m\n",
      "\u001b[90m  change: 'changed',\u001b[39m\n",
      "\u001b[90m  tagName: 'div',\u001b[39m\n",
      "\u001b[90m  attribName: 'style',\u001b[39m\n",
      "\u001b[90m  oldValue: 'font-size:25px',\u001b[39m\n",
      "\u001b[90m  newValue: 'font-size: 25px'\u001b[39m\n",
      "\u001b[90m}\u001b[39m\n",
      "\u001b[90mHTML Sanitizer\u001b[39m \u001b[90mdiv.style changed\u001b[39m \u001b[90m{\u001b[39m\n",
      "\u001b[90m  change: 'changed',\u001b[39m\n",
      "\u001b[90m  tagName: 'div',\u001b[39m\n",
      "\u001b[90m  attribName: 'style',\u001b[39m\n",
      "\u001b[90m  oldValue: 'font-size:25px',\u001b[39m\n",
      "\u001b[90m  newValue: 'font-size: 25px'\u001b[39m\n",
      "\u001b[90m}\u001b[39m\n",
      "\u001b[90mHTML Sanitizer\u001b[39m \u001b[90mdiv.style changed\u001b[39m \u001b[90m{\u001b[39m\n",
      "\u001b[90m  change: 'changed',\u001b[39m\n",
      "\u001b[90m  tagName: 'div',\u001b[39m\n",
      "\u001b[90m  attribName: 'style',\u001b[39m\n",
      "\u001b[90m  oldValue: 'height:70vh;',\u001b[39m\n",
      "\u001b[90m  newValue: 'height: 70vh'\u001b[39m\n",
      "\u001b[90m}\u001b[39m\n",
      "\u001b[90mHTML Sanitizer\u001b[39m \u001b[90mimg.style changed\u001b[39m \u001b[90m{\u001b[39m\n",
      "\u001b[90m  change: 'changed',\u001b[39m\n",
      "\u001b[90m  tagName: 'img',\u001b[39m\n",
      "\u001b[90m  attribName: 'style',\u001b[39m\n",
      "\u001b[90m  oldValue: 'height:70vh;',\u001b[39m\n",
      "\u001b[90m  newValue: 'height: 70vh'\u001b[39m\n",
      "\u001b[90m}\u001b[39m\n",
      "\u001b[90mHTML Sanitizer\u001b[39m \u001b[90mdiv.style changed\u001b[39m \u001b[90m{\u001b[39m\n",
      "\u001b[90m  change: 'changed',\u001b[39m\n",
      "\u001b[90m  tagName: 'div',\u001b[39m\n",
      "\u001b[90m  attribName: 'style',\u001b[39m\n",
      "\u001b[90m  oldValue: 'height:562px;',\u001b[39m\n",
      "\u001b[90m  newValue: 'height: 562px'\u001b[39m\n",
      "\u001b[90m}\u001b[39m\n",
      "\u001b[90mHTML Sanitizer\u001b[39m \u001b[90mimg.style changed\u001b[39m \u001b[90m{\u001b[39m\n",
      "\u001b[90m  change: 'changed',\u001b[39m\n",
      "\u001b[90m  tagName: 'img',\u001b[39m\n",
      "\u001b[90m  attribName: 'style',\u001b[39m\n",
      "\u001b[90m  oldValue: 'height:562px;float:left ',\u001b[39m\n",
      "\u001b[90m  newValue: 'height: 562px ; float: left'\u001b[39m\n",
      "\u001b[90m}\u001b[39m\n",
      "\u001b[90mHTML Sanitizer\u001b[39m \u001b[90mimg.style changed\u001b[39m \u001b[90m{\u001b[39m\n",
      "\u001b[90m  change: 'changed',\u001b[39m\n",
      "\u001b[90m  tagName: 'img',\u001b[39m\n",
      "\u001b[90m  attribName: 'style',\u001b[39m\n",
      "\u001b[90m  oldValue: 'height:562px;float:right ',\u001b[39m\n",
      "\u001b[90m  newValue: 'height: 562px ; float: right'\u001b[39m\n",
      "\u001b[90m}\u001b[39m\n",
      "\u001b[90mHTML Sanitizer\u001b[39m \u001b[90mdiv.style changed\u001b[39m \u001b[90m{\u001b[39m\n",
      "\u001b[90m  change: 'changed',\u001b[39m\n",
      "\u001b[90m  tagName: 'div',\u001b[39m\n",
      "\u001b[90m  attribName: 'style',\u001b[39m\n",
      "\u001b[90m  oldValue: 'height:70vh;',\u001b[39m\n",
      "\u001b[90m  newValue: 'height: 70vh'\u001b[39m\n",
      "\u001b[90m}\u001b[39m\n",
      "\u001b[90mHTML Sanitizer\u001b[39m \u001b[90mimg.style changed\u001b[39m \u001b[90m{\u001b[39m\n",
      "\u001b[90m  change: 'changed',\u001b[39m\n",
      "\u001b[90m  tagName: 'img',\u001b[39m\n",
      "\u001b[90m  attribName: 'style',\u001b[39m\n",
      "\u001b[90m  oldValue: 'height:70vh;',\u001b[39m\n",
      "\u001b[90m  newValue: 'height: 70vh'\u001b[39m\n",
      "\u001b[90m}\u001b[39m\n",
      "\u001b[90mHTML Sanitizer\u001b[39m \u001b[90mdiv.style changed\u001b[39m \u001b[90m{\u001b[39m\n",
      "\u001b[90m  change: 'changed',\u001b[39m\n",
      "\u001b[90m  tagName: 'div',\u001b[39m\n",
      "\u001b[90m  attribName: 'style',\u001b[39m\n",
      "\u001b[90m  oldValue: 'height:70vh;',\u001b[39m\n",
      "\u001b[90m  newValue: 'height: 70vh'\u001b[39m\n",
      "\u001b[90m}\u001b[39m\n",
      "\u001b[90mHTML Sanitizer\u001b[39m \u001b[90mimg.style changed\u001b[39m \u001b[90m{\u001b[39m\n",
      "\u001b[90m  change: 'changed',\u001b[39m\n",
      "\u001b[90m  tagName: 'img',\u001b[39m\n",
      "\u001b[90m  attribName: 'style',\u001b[39m\n",
      "\u001b[90m  oldValue: 'height:70vh;',\u001b[39m\n",
      "\u001b[90m  newValue: 'height: 70vh'\u001b[39m\n",
      "\u001b[90m}\u001b[39m\n",
      "\u001b[90mHTML Sanitizer\u001b[39m \u001b[90mdiv.style changed\u001b[39m \u001b[90m{\u001b[39m\n",
      "\u001b[90m  change: 'changed',\u001b[39m\n",
      "\u001b[90m  tagName: 'div',\u001b[39m\n",
      "\u001b[90m  attribName: 'style',\u001b[39m\n",
      "\u001b[90m  oldValue: 'height:70vh;',\u001b[39m\n",
      "\u001b[90m  newValue: 'height: 70vh'\u001b[39m\n",
      "\u001b[90m}\u001b[39m\n",
      "\u001b[90mHTML Sanitizer\u001b[39m \u001b[90mimg.style changed\u001b[39m \u001b[90m{\u001b[39m\n",
      "\u001b[90m  change: 'changed',\u001b[39m\n",
      "\u001b[90m  tagName: 'img',\u001b[39m\n",
      "\u001b[90m  attribName: 'style',\u001b[39m\n",
      "\u001b[90m  oldValue: 'height:70vh',\u001b[39m\n",
      "\u001b[90m  newValue: 'height: 70vh'\u001b[39m\n",
      "\u001b[90m}\u001b[39m\n",
      "\u001b[90mHTML Sanitizer\u001b[39m \u001b[90mdiv.style changed\u001b[39m \u001b[90m{\u001b[39m\n",
      "\u001b[90m  change: 'changed',\u001b[39m\n",
      "\u001b[90m  tagName: 'div',\u001b[39m\n",
      "\u001b[90m  attribName: 'style',\u001b[39m\n",
      "\u001b[90m  oldValue: 'height:75vh',\u001b[39m\n",
      "\u001b[90m  newValue: 'height: 75vh'\u001b[39m\n",
      "\u001b[90m}\u001b[39m\n",
      "\u001b[90mHTML Sanitizer\u001b[39m \u001b[90mimg.style changed\u001b[39m \u001b[90m{\u001b[39m\n",
      "\u001b[90m  change: 'changed',\u001b[39m\n",
      "\u001b[90m  tagName: 'img',\u001b[39m\n",
      "\u001b[90m  attribName: 'style',\u001b[39m\n",
      "\u001b[90m  oldValue: 'height:75vh',\u001b[39m\n",
      "\u001b[90m  newValue: 'height: 75vh'\u001b[39m\n",
      "\u001b[90m}\u001b[39m\n",
      "\u001b[90mHTML Sanitizer\u001b[39m \u001b[90mdiv.style changed\u001b[39m \u001b[90m{\u001b[39m\n",
      "\u001b[90m  change: 'changed',\u001b[39m\n",
      "\u001b[90m  tagName: 'div',\u001b[39m\n",
      "\u001b[90m  attribName: 'style',\u001b[39m\n",
      "\u001b[90m  oldValue: 'height:70vh;',\u001b[39m\n",
      "\u001b[90m  newValue: 'height: 70vh'\u001b[39m\n",
      "\u001b[90m}\u001b[39m\n",
      "\u001b[90mHTML Sanitizer\u001b[39m \u001b[90mimg.style changed\u001b[39m \u001b[90m{\u001b[39m\n",
      "\u001b[90m  change: 'changed',\u001b[39m\n",
      "\u001b[90m  tagName: 'img',\u001b[39m\n",
      "\u001b[90m  attribName: 'style',\u001b[39m\n",
      "\u001b[90m  oldValue: 'height:70vh;',\u001b[39m\n",
      "\u001b[90m  newValue: 'height: 70vh'\u001b[39m\n",
      "\u001b[90m}\u001b[39m\n",
      "\u001b[90mHTML Sanitizer\u001b[39m \u001b[90mdiv.style changed\u001b[39m \u001b[90m{\u001b[39m\n",
      "\u001b[90m  change: 'changed',\u001b[39m\n",
      "\u001b[90m  tagName: 'div',\u001b[39m\n",
      "\u001b[90m  attribName: 'style',\u001b[39m\n",
      "\u001b[90m  oldValue: 'height:662px;',\u001b[39m\n",
      "\u001b[90m  newValue: 'height: 662px'\u001b[39m\n",
      "\u001b[90m}\u001b[39m\n",
      "\u001b[90mHTML Sanitizer\u001b[39m \u001b[90mimg.style changed\u001b[39m \u001b[90m{\u001b[39m\n",
      "\u001b[90m  change: 'changed',\u001b[39m\n",
      "\u001b[90m  tagName: 'img',\u001b[39m\n",
      "\u001b[90m  attribName: 'style',\u001b[39m\n",
      "\u001b[90m  oldValue: 'height:662px',\u001b[39m\n",
      "\u001b[90m  newValue: 'height: 662px'\u001b[39m\n",
      "\u001b[90m}\u001b[39m\n",
      "\u001b[90mHTML Sanitizer\u001b[39m \u001b[90mdiv.style changed\u001b[39m \u001b[90m{\u001b[39m\n",
      "\u001b[90m  change: 'changed',\u001b[39m\n",
      "\u001b[90m  tagName: 'div',\u001b[39m\n",
      "\u001b[90m  attribName: 'style',\u001b[39m\n",
      "\u001b[90m  oldValue: 'height:662px;',\u001b[39m\n",
      "\u001b[90m  newValue: 'height: 662px'\u001b[39m\n",
      "\u001b[90m}\u001b[39m\n",
      "\u001b[90mHTML Sanitizer\u001b[39m \u001b[90mimg.style changed\u001b[39m \u001b[90m{\u001b[39m\n",
      "\u001b[90m  change: 'changed',\u001b[39m\n",
      "\u001b[90m  tagName: 'img',\u001b[39m\n",
      "\u001b[90m  attribName: 'style',\u001b[39m\n",
      "\u001b[90m  oldValue: 'height:662px',\u001b[39m\n",
      "\u001b[90m  newValue: 'height: 662px'\u001b[39m\n",
      "\u001b[90m}\u001b[39m\n",
      "\u001b[90mHTML Sanitizer\u001b[39m \u001b[90mdiv.style changed\u001b[39m \u001b[90m{\u001b[39m\n",
      "\u001b[90m  change: 'changed',\u001b[39m\n",
      "\u001b[90m  tagName: 'div',\u001b[39m\n",
      "\u001b[90m  attribName: 'style',\u001b[39m\n",
      "\u001b[90m  oldValue: 'height:70vh;',\u001b[39m\n",
      "\u001b[90m  newValue: 'height: 70vh'\u001b[39m\n",
      "\u001b[90m}\u001b[39m\n",
      "\u001b[90mHTML Sanitizer\u001b[39m \u001b[90mimg.style changed\u001b[39m \u001b[90m{\u001b[39m\n",
      "\u001b[90m  change: 'changed',\u001b[39m\n",
      "\u001b[90m  tagName: 'img',\u001b[39m\n",
      "\u001b[90m  attribName: 'style',\u001b[39m\n",
      "\u001b[90m  oldValue: 'height:70vh;',\u001b[39m\n",
      "\u001b[90m  newValue: 'height: 70vh'\u001b[39m\n",
      "\u001b[90m}\u001b[39m\n",
      "\u001b[90mHTML Sanitizer\u001b[39m \u001b[90mdiv.style changed\u001b[39m \u001b[90m{\u001b[39m\n",
      "\u001b[90m  change: 'changed',\u001b[39m\n",
      "\u001b[90m  tagName: 'div',\u001b[39m\n",
      "\u001b[90m  attribName: 'style',\u001b[39m\n",
      "\u001b[90m  oldValue: 'height:70vh;',\u001b[39m\n",
      "\u001b[90m  newValue: 'height: 70vh'\u001b[39m\n",
      "\u001b[90m}\u001b[39m\n",
      "\u001b[90mHTML Sanitizer\u001b[39m \u001b[90mimg.style changed\u001b[39m \u001b[90m{\u001b[39m\n",
      "\u001b[90m  change: 'changed',\u001b[39m\n",
      "\u001b[90m  tagName: 'img',\u001b[39m\n",
      "\u001b[90m  attribName: 'style',\u001b[39m\n",
      "\u001b[90m  oldValue: 'height:70vh;',\u001b[39m\n",
      "\u001b[90m  newValue: 'height: 70vh'\u001b[39m\n",
      "\u001b[90m}\u001b[39m\n",
      "\u001b[90mHTML Sanitizer\u001b[39m \u001b[90mdiv.style changed\u001b[39m \u001b[90m{\u001b[39m\n",
      "\u001b[90m  change: 'changed',\u001b[39m\n",
      "\u001b[90m  tagName: 'div',\u001b[39m\n",
      "\u001b[90m  attribName: 'style',\u001b[39m\n",
      "\u001b[90m  oldValue: 'height:70vh;',\u001b[39m\n",
      "\u001b[90m  newValue: 'height: 70vh'\u001b[39m\n",
      "\u001b[90m}\u001b[39m\n",
      "\u001b[90mHTML Sanitizer\u001b[39m \u001b[90mimg.style changed\u001b[39m \u001b[90m{\u001b[39m\n",
      "\u001b[90m  change: 'changed',\u001b[39m\n",
      "\u001b[90m  tagName: 'img',\u001b[39m\n",
      "\u001b[90m  attribName: 'style',\u001b[39m\n",
      "\u001b[90m  oldValue: 'height:70vh;',\u001b[39m\n",
      "\u001b[90m  newValue: 'height: 70vh'\u001b[39m\n",
      "\u001b[90m}\u001b[39m\n",
      "\u001b[90mHTML Sanitizer\u001b[39m \u001b[90mdiv.style changed\u001b[39m \u001b[90m{\u001b[39m\n",
      "\u001b[90m  change: 'changed',\u001b[39m\n",
      "\u001b[90m  tagName: 'div',\u001b[39m\n",
      "\u001b[90m  attribName: 'style',\u001b[39m\n",
      "\u001b[90m  oldValue: 'height:70vh;',\u001b[39m\n",
      "\u001b[90m  newValue: 'height: 70vh'\u001b[39m\n",
      "\u001b[90m}\u001b[39m\n",
      "\u001b[90mHTML Sanitizer\u001b[39m \u001b[90mimg.style changed\u001b[39m \u001b[90m{\u001b[39m\n",
      "\u001b[90m  change: 'changed',\u001b[39m\n",
      "\u001b[90m  tagName: 'img',\u001b[39m\n",
      "\u001b[90m  attribName: 'style',\u001b[39m\n",
      "\u001b[90m  oldValue: 'height:70vh;',\u001b[39m\n",
      "\u001b[90m  newValue: 'height: 70vh'\u001b[39m\n",
      "\u001b[90m}\u001b[39m\n",
      "\u001b[90mHTML Sanitizer\u001b[39m \u001b[90mdiv.style changed\u001b[39m \u001b[90m{\u001b[39m\n",
      "\u001b[90m  change: 'changed',\u001b[39m\n",
      "\u001b[90m  tagName: 'div',\u001b[39m\n",
      "\u001b[90m  attribName: 'style',\u001b[39m\n",
      "\u001b[90m  oldValue: 'height:30vh;',\u001b[39m\n",
      "\u001b[90m  newValue: 'height: 30vh'\u001b[39m\n",
      "\u001b[90m}\u001b[39m\n",
      "\u001b[90mHTML Sanitizer\u001b[39m \u001b[90mspan.style changed\u001b[39m \u001b[90m{\u001b[39m\n",
      "\u001b[90m  change: 'changed',\u001b[39m\n",
      "\u001b[90m  tagName: 'span',\u001b[39m\n",
      "\u001b[90m  attribName: 'style',\u001b[39m\n",
      "\u001b[90m  oldValue: 'color:DodgerBlue',\u001b[39m\n",
      "\u001b[90m  newValue: 'color: dodgerblue'\u001b[39m\n",
      "\u001b[90m}\u001b[39m\n",
      "\u001b[90mHTML Sanitizer\u001b[39m \u001b[90mspan.style changed\u001b[39m \u001b[90m{\u001b[39m\n",
      "\u001b[90m  change: 'changed',\u001b[39m\n",
      "\u001b[90m  tagName: 'span',\u001b[39m\n",
      "\u001b[90m  attribName: 'style',\u001b[39m\n",
      "\u001b[90m  oldValue: 'color:DodgerBlue',\u001b[39m\n",
      "\u001b[90m  newValue: 'color: dodgerblue'\u001b[39m\n",
      "\u001b[90m}\u001b[39m\n",
      "\u001b[90mHTML Sanitizer\u001b[39m \u001b[90mspan.style changed\u001b[39m \u001b[90m{\u001b[39m\n",
      "\u001b[90m  change: 'changed',\u001b[39m\n",
      "\u001b[90m  tagName: 'span',\u001b[39m\n",
      "\u001b[90m  attribName: 'style',\u001b[39m\n",
      "\u001b[90m  oldValue: 'color:DodgerBlue',\u001b[39m\n",
      "\u001b[90m  newValue: 'color: dodgerblue'\u001b[39m\n",
      "\u001b[90m}\u001b[39m\n",
      "\u001b[90mHTML Sanitizer\u001b[39m \u001b[90mspan.style changed\u001b[39m \u001b[90m{\u001b[39m\n",
      "\u001b[90m  change: 'changed',\u001b[39m\n",
      "\u001b[90m  tagName: 'span',\u001b[39m\n",
      "\u001b[90m  attribName: 'style',\u001b[39m\n",
      "\u001b[90m  oldValue: 'color:FireBrick',\u001b[39m\n",
      "\u001b[90m  newValue: 'color: firebrick'\u001b[39m\n",
      "\u001b[90m}\u001b[39m\n"
     ]
    },
    {
     "name": "stdout",
     "output_type": "stream",
     "text": [
      "\u001b[90mSession: kernel_created (617a8637-3363-427d-a802-ae9ec82f3eb2)\u001b[39m\n",
      "\u001b[90mStarting WebSockets:\u001b[39m \u001b[90mws://localhost:8888/api/kernels/e5c4c038-6805-48c3-828a-935213855afd\u001b[39m\n",
      "\u001b[31mFailed to load extension:\u001b[39m \u001b[31m[ 'nbextensions/hide_code/hide_code' ]\u001b[39m \u001b[31m{\u001b[39m\n",
      "\u001b[31m  requireType: 'scripterror',\u001b[39m\n",
      "\u001b[31m  requireModules: [ 'nbextensions/hide_code/hide_code' ],\u001b[39m\n",
      "\u001b[31m  originalError: { isTrusted: true }\u001b[39m\n",
      "\u001b[31m}\u001b[39m\n",
      "\u001b[90mLoading extension: nbextensions_configurator/config_menu/main\u001b[39m\n",
      "\u001b[90mLoading extension: contrib_nbextensions_help_item/main\u001b[39m\n",
      "\u001b[90mLoading extension: rise/main\u001b[39m\n",
      "\u001b[90mLoading extension: hide_input/main\u001b[39m\n",
      "\u001b[90mLoading extension: jupyter-js-widgets/extension\u001b[39m\n",
      "\u001b[90mLoading extension: splitcell/splitcell\u001b[39m\n",
      "\u001b[90mKernel: kernel_connected (e5c4c038-6805-48c3-828a-935213855afd)\u001b[39m\n",
      "\u001b[31mFailed to load resource: the server responded with a status of 404 (Not Found)\u001b[39m\n",
      "\u001b[38;2;255;165;0mWidgets are not available.  Please install widgetsnbextension or ipywidgets 4.0\u001b[39m\n",
      "\u001b[90mLoading extension: jupyter-black-master/jupyter-black\u001b[39m\n",
      "\u001b[90mLoading extension: toc2/main\u001b[39m\n",
      "\u001b[90m[toc2] Notebook fully loaded -- toc2 initialized \u001b[39m\n",
      "\u001b[90mLoading extension: codefolding/main\u001b[39m\n",
      "\u001b[31mAccess to font at 'about:blank' from origin 'http://localhost:8888' has been blocked by CORS policy: Cross origin requests are only supported for protocol schemes: http, data, chrome, chrome-untrusted, https.\u001b[39m\n",
      "\n",
      "\u001b[38;2;255;165;0mUnable to load resource from URL: about:blank\u001b[39m\n",
      "\u001b[31mFailed to load resource: net::ERR_FAILED\u001b[39m\n",
      "Loading page finished with status: \u001b[33m200\u001b[39m\n",
      "\u001b[36m\u001b[1mRISE\u001b[22m\u001b[39m\u001b[36m plugin activated\u001b[39m\n",
      "\u001b[31mRefused to apply style from 'http://localhost:8888/notebooks/Lecture14.css' because its MIME type ('text/html') is not a supported stylesheet MIME type, and strict MIME checking is enabled.\u001b[39m\n",
      "\u001b[90mCodefolding: Wait for\u001b[39m \u001b[90m1000\u001b[39m \u001b[90mms\u001b[39m\n",
      "\u001b[31mFailed to load resource: the server responded with a status of 404 (Not Found)\u001b[39m\n",
      "\u001b[38;2;255;165;0mFailed to get file chalkboard/2023/EOS240-Lecture13.json. ReadyState: 4, Status: 404\u001b[39m\n",
      "Printing slide #/slide-15-0 (20/16) ...\u001b[32m\u001b[39m\n",
      "\u001b[32mPrinted \u001b[39m\u001b[32m\u001b[1m20\u001b[22m\u001b[39m\u001b[32m slides\u001b[39m\n"
     ]
    }
   ],
   "source": [
    "nb_list = !jupyter notebook list\n",
    "server = [l for l in nb_list if 'eos240' in l][0].split(' :: ')[0]\n",
    "prefix = server.split('?')[0]\n",
    "token = server.split('?')[1]\n",
    "notebook = 'Lecture14.ipynb'\n",
    "url = prefix+'notebooks/'+notebook+'?'+token\n",
    "!decktape -s '1920x1080' rise $url pdf_slides/Lecture14.pdf"
   ]
  },
  {
   "cell_type": "markdown",
   "metadata": {
    "hide_input": false,
    "slideshow": {
     "slide_type": "slide"
    }
   },
   "source": [
    "<center><div style=\"background: url(images/Earth.jpg) 30% 60% no-repeat;\n",
    "  width: 1290px;\n",
    "  height: 181px; background-size: 150%;\">\n",
    "</div></center>"
   ]
  },
  {
   "cell_type": "markdown",
   "metadata": {
    "slideshow": {
     "slide_type": "-"
    }
   },
   "source": [
    "# Lecture 14: The Long Term Carbon Cycle\n",
    "\n",
    "<div style='font-size:25px'>  \n",
    "    \n",
    "1. The temperature of the Earth\n",
    "1. A faint young Sun\n",
    "1. The necessity of a negative feedback\n",
    "1. The (long-term) Carbon cycle\n",
    "1. Finite-difference solutions to differential equations\n",
    "<!-- Changing climate\n",
    "Stable isotopes\n",
    "Cenozoic Climate\n",
    "Pleistocene Climate -->\n",
    "    \n",
    "</div>\n"
   ]
  },
  {
   "cell_type": "markdown",
   "metadata": {
    "slideshow": {
     "slide_type": "-"
    }
   },
   "source": [
    "<div style='font-size:25px'> <i>We acknowledge and respect the lək̓ʷəŋən peoples on whose traditional territory the university stands and the Songhees, Esquimalt and W̱SÁNE&#262; peoples whose historical relationships with the land continue to this day.</i></div>"
   ]
  },
  {
   "cell_type": "markdown",
   "metadata": {
    "slideshow": {
     "slide_type": "slide"
    }
   },
   "source": [
    "What sets the temperature of the Earth?\n",
    "<center>\n",
    "    <div style='height:70vh;'>\n",
    "\t    <img style=\"height:70vh;\" src=\"chalkboard_images/L14_S10_F0.svg\"/>\n",
    "    </div>\n",
    "</center>\n"
   ]
  },
  {
   "cell_type": "markdown",
   "metadata": {
    "slideshow": {
     "slide_type": "slide"
    }
   },
   "source": [
    "<center>\n",
    "    <div style='height:562px;'>\n",
    "        <img src=\"images/blackbody_solar.png\" style='height:562px;float:left '>\n",
    "        <img src=\"images/blackbody_all.png\" style='height:562px;float:right '>\n",
    "    </div>\n",
    "</center>"
   ]
  },
  {
   "cell_type": "markdown",
   "metadata": {
    "slideshow": {
     "slide_type": "slide"
    }
   },
   "source": [
    "Calculating the 'emission' temperature of Earth\n",
    "<center>\n",
    "    <div style='height:70vh;'>\n",
    "\t    <img style=\"height:70vh;\" src=\"chalkboard_images/L16_S0_F0.svg\"/>\n",
    "    </div>\n",
    "</center>\n"
   ]
  },
  {
   "cell_type": "markdown",
   "metadata": {
    "slideshow": {
     "slide_type": "skip"
    }
   },
   "source": [
    "<center>\n",
    "    <div style='height:70vh;'>\n",
    "\t    <img style=\"height:70vh;\" src=\"chalkboard_images/L16_S14_F0.svg\"/>\n",
    "    </div>\n",
    "</center>"
   ]
  },
  {
   "cell_type": "markdown",
   "metadata": {
    "slideshow": {
     "slide_type": "slide"
    }
   },
   "source": [
    "<center>\n",
    "    <div style='height:70vh;'>\n",
    "\t    <img src=\"images/absorb.png\" style='height:70vh'>\n",
    "    </div>\n",
    "</center>"
   ]
  },
  {
   "cell_type": "markdown",
   "metadata": {
    "slideshow": {
     "slide_type": "slide"
    }
   },
   "source": [
    "<center>\n",
    "    <div style='height:75vh'>\n",
    "\t    <img src=\"images/pillow_basalt.jpg\" style='height:75vh'>\n",
    "    </div>\n",
    "</center>"
   ]
  },
  {
   "cell_type": "markdown",
   "metadata": {
    "slideshow": {
     "slide_type": "slide"
    }
   },
   "source": [
    "A faint young Sun and possible solutions\n",
    "<center>\n",
    "    <div style='height:70vh;'>\n",
    "\t    <img style=\"height:70vh;\" src=\"chalkboard_images/L16_S16_F0.svg\"/>\n",
    "    </div>\n",
    "</center>\n"
   ]
  },
  {
   "cell_type": "markdown",
   "metadata": {
    "slideshow": {
     "slide_type": "slide"
    }
   },
   "source": [
    "<center>\n",
    "    <div style='height:662px;'>\n",
    "\t    <img src=\"images/kasting.png\" style='height:662px'>\n",
    "    </div>\n",
    "</center>"
   ]
  },
  {
   "cell_type": "markdown",
   "metadata": {
    "slideshow": {
     "slide_type": "slide"
    }
   },
   "source": [
    "The silicate weathering feedback\n",
    "<center>\n",
    "    <div style='height:662px;'>\n",
    "\t    <img src=\"images/walker.png\" style='height:662px'>\n",
    "    </div>\n",
    "</center>"
   ]
  },
  {
   "cell_type": "markdown",
   "metadata": {
    "slideshow": {
     "slide_type": "slide"
    }
   },
   "source": [
    "Feedbacks\n",
    "<center>\n",
    "    <div style='height:70vh;'>\n",
    "\t    <img style=\"height:70vh;\" src=\"chalkboard_images/L14_S19_F0.svg\"/>\n",
    "    </div>\n",
    "</center>\n"
   ]
  },
  {
   "cell_type": "markdown",
   "metadata": {
    "slideshow": {
     "slide_type": "slide"
    }
   },
   "source": [
    "The long term carbon cycle (conceptual)\n",
    "<center>\n",
    "    <div style='height:70vh;'>\n",
    "\t    <img style=\"height:70vh;\" src=\"chalkboard_images/L14_S20_F0.svg\"/>\n",
    "    </div>\n",
    "</center>\n"
   ]
  },
  {
   "cell_type": "markdown",
   "metadata": {
    "slideshow": {
     "slide_type": "slide"
    }
   },
   "source": [
    "The long term carbon cycle (a model)\n",
    "<center>\n",
    "    <div style='height:70vh;'>\n",
    "\t    <img style=\"height:70vh;\" src=\"chalkboard_images/L14_S21_F0.svg\"/>\n",
    "    </div>\n",
    "</center>\n"
   ]
  },
  {
   "cell_type": "markdown",
   "metadata": {
    "slideshow": {
     "slide_type": "slide"
    }
   },
   "source": [
    "How does climate change?\n",
    "<center>\n",
    "    <div style='height:70vh;'>\n",
    "\t    <img style=\"height:70vh;\" src=\"chalkboard_images/L14_S22_F0.svg\"/>\n",
    "    </div>\n",
    "</center>\n"
   ]
  },
  {
   "cell_type": "markdown",
   "metadata": {
    "slideshow": {
     "slide_type": "slide"
    }
   },
   "source": [
    "### The Derivative Function\n",
    "Recall: what is the definition of the derivative function $f'(x)$?"
   ]
  },
  {
   "cell_type": "markdown",
   "metadata": {
    "slideshow": {
     "slide_type": "-"
    }
   },
   "source": [
    "$$\n",
    "\\begin{equation}\n",
    "f'(x)\n",
    "=\n",
    "\\lim_{\\Delta x\\to0}\n",
    "\\dfrac{f(x+\\Delta x)-f(x)}{\\Delta x}\n",
    "\\end{equation}\n",
    "=\n",
    "\\dfrac{\\Delta f}{\\Delta x}\n",
    "$$\n",
    "\n",
    "\n",
    "<center>\n",
    "    <div style='height:30vh;'>\n",
    "\t    <p>\n",
    "    </div>\n",
    "</center>"
   ]
  },
  {
   "cell_type": "markdown",
   "metadata": {
    "slideshow": {
     "slide_type": "fragment"
    }
   },
   "source": [
    "<span style='color:DodgerBlue'>**While we can't calculate $\\Delta x$ and $\\Delta f$ for $\\lim{(\\Delta x\\to0)}$ CPUs have no trouble calculating $\\dfrac{\\Delta f}{\\Delta x}$ for a sufficiently small value of $\\Delta x$**</span>"
   ]
  },
  {
   "cell_type": "markdown",
   "metadata": {
    "slideshow": {
     "slide_type": "slide"
    }
   },
   "source": [
    "### Finite difference methods\n",
    "In fact, we have many possible approaches to estimating derivatives using *sufficiently small* values of $\\Delta x$, and these methods are collectively known as **finite difference methods**. These methods make use of <span style='color:DodgerBlue'>**Taylor's theorem**</span>:"
   ]
  },
  {
   "cell_type": "markdown",
   "metadata": {
    "slideshow": {
     "slide_type": "fragment"
    }
   },
   "source": [
    "$\\begin{equation} f(x + \\Delta x) = f(x) + \\dfrac{f'(x)}{1!}(\\Delta x) + \\dfrac{f''(x)}{2!}(\\Delta x)^2 + ... \\end{equation} \\label{eq:taylor}\\tag{Taylor series} $  "
   ]
  },
  {
   "cell_type": "markdown",
   "metadata": {
    "slideshow": {
     "slide_type": "fragment"
    }
   },
   "source": [
    "<span style='color:DodgerBlue'>**What happens to the size of each higher order term in the series?**</span>"
   ]
  },
  {
   "cell_type": "markdown",
   "metadata": {
    "slideshow": {
     "slide_type": "slide"
    }
   },
   "source": [
    "We describe the error of an approximation by the degree of the term where the series is truncated. First order: $O(\\Delta x)$, second order: $O(\\Delta x^2)$, third order: $O(\\Delta x^3)$, etc...\n",
    "\n",
    "$$\n",
    "\\begin{equation} f(x + \\Delta x) \\color{red}{\\approx} f(x) + \\dfrac{f'(x)}{1!}(\\Delta x) \n",
    "\\color{Gray}{+ \\dfrac{f''(x)}{2!}(\\Delta x)^2 + ...} \n",
    "\\end{equation}\n",
    "$$  "
   ]
  },
  {
   "cell_type": "markdown",
   "metadata": {
    "slideshow": {
     "slide_type": "fragment"
    }
   },
   "source": [
    "<span style='color:FireBrick'>**We can use small $\\Delta x$ and a first order truncation of the Taylor series to estimate $f(x + \\Delta x)$**</span>"
   ]
  }
 ],
 "metadata": {
  "celltoolbar": "Slideshow",
  "kernelspec": {
   "display_name": "jupyterbase",
   "language": "python",
   "name": "jupyterbase"
  },
  "language_info": {
   "codemirror_mode": {
    "name": "ipython",
    "version": 3
   },
   "file_extension": ".py",
   "mimetype": "text/x-python",
   "name": "python",
   "nbconvert_exporter": "python",
   "pygments_lexer": "ipython3",
   "version": "3.7.8"
  },
  "rise": {
   "chalkboard": {
    "chalkEffect": 1,
    "chalkWidth": 4,
    "color": [
     "rgb(200,47,62)",
     "rgb(200,47,62)"
    ],
    "readOnly": false,
    "src": "chalkboard/2023/EOS240-Lecture13.json",
    "theme": "whiteboard"
   },
   "enable_chalkboard": true,
   "transition": "none"
  },
  "toc": {
   "base_numbering": 1,
   "nav_menu": {
    "height": "229px",
    "width": "213px"
   },
   "number_sections": false,
   "sideBar": true,
   "skip_h1_title": false,
   "title_cell": "Table of Contents",
   "title_sidebar": "Contents",
   "toc_cell": false,
   "toc_position": {
    "height": "calc(100% - 180px)",
    "left": "10px",
    "top": "150px",
    "width": "426.667px"
   },
   "toc_section_display": true,
   "toc_window_display": false
  },
  "toc-autonumbering": true,
  "toc-showcode": false,
  "toc-showmarkdowntxt": false,
  "toc-showtags": false
 },
 "nbformat": 4,
 "nbformat_minor": 4
}
