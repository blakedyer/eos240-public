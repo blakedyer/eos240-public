{
 "cells": [
  {
   "cell_type": "markdown",
   "metadata": {
    "slideshow": {
     "slide_type": "skip"
    }
   },
   "source": [
    "Lecture 9: Partial melting and explaining the crust"
   ]
  },
  {
   "cell_type": "code",
   "execution_count": 2,
   "metadata": {
    "slideshow": {
     "slide_type": "skip"
    }
   },
   "outputs": [
    {
     "name": "stdout",
     "output_type": "stream",
     "text": [
      "Loading page http://localhost:8888/notebooks/Lecture09.ipynb?token=668d1ae753ba396f483a9e5b92743cf42d91598584f6dd3a ...\n",
      "\u001b[38;2;255;165;0mactions\u001b[39m \u001b[38;2;255;165;0mjupyter-notebook:find-and-replace\u001b[39m \u001b[38;2;255;165;0mdoes not exist, still binding it in case it will be defined later...\u001b[39m\n",
      "\u001b[90mload_extensions\u001b[39m \u001b[90m{\u001b[39m\n",
      "\u001b[90m  '0': 'nbextensions_configurator/config_menu/main',\u001b[39m\n",
      "\u001b[90m  '1': 'contrib_nbextensions_help_item/main',\u001b[39m\n",
      "\u001b[90m  '2': 'rise/main',\u001b[39m\n",
      "\u001b[90m  '3': 'jupyter-js-widgets/extension',\u001b[39m\n",
      "\u001b[90m  '4': 'jupyter-black-master/jupyter-black',\u001b[39m\n",
      "\u001b[90m  '5': 'toc2/main',\u001b[39m\n",
      "\u001b[90m  '6': 'hide_code/hide_code',\u001b[39m\n",
      "\u001b[90m  '7': 'hide_input/main',\u001b[39m\n",
      "\u001b[90m  '8': 'codefolding/main',\u001b[39m\n",
      "\u001b[90m  '9': 'splitcell/splitcell'\u001b[39m\n",
      "\u001b[90m}\u001b[39m\n",
      "\u001b[90mLoaded moment locale\u001b[39m \u001b[90men-gb\u001b[39m\n",
      "\u001b[90mHTML Sanitizer\u001b[39m \u001b[90mdiv.style changed\u001b[39m \u001b[90m{\u001b[39m\n",
      "\u001b[90m  change: 'changed',\u001b[39m\n",
      "\u001b[90m  tagName: 'div',\u001b[39m\n",
      "\u001b[90m  attribName: 'style',\u001b[39m\n",
      "\u001b[90m  oldValue: 'background: url(images/olivine.png) 75% 50% no-repeat;\\n' +\u001b[39m\n",
      "\u001b[90m    '  width: 1290px;\\n' +\u001b[39m\n",
      "\u001b[90m    '  height: 181px; background-size: 40%;',\u001b[39m\n",
      "\u001b[90m  newValue: 'background: url(\"images/olivine.png\") 75% 50% no-repeat ; width: 1290px ; height: 181px ; background-size: 40%'\u001b[39m\n",
      "\u001b[90m}\u001b[39m\n",
      "\u001b[90mHTML Sanitizer\u001b[39m \u001b[90mdiv.style changed\u001b[39m \u001b[90m{\u001b[39m\n",
      "\u001b[90m  change: 'changed',\u001b[39m\n",
      "\u001b[90m  tagName: 'div',\u001b[39m\n",
      "\u001b[90m  attribName: 'style',\u001b[39m\n",
      "\u001b[90m  oldValue: 'font-size:20px',\u001b[39m\n",
      "\u001b[90m  newValue: 'font-size: 20px'\u001b[39m\n",
      "\u001b[90m}\u001b[39m\n",
      "\u001b[90mHTML Sanitizer\u001b[39m \u001b[90mdiv.style changed\u001b[39m \u001b[90m{\u001b[39m\n",
      "\u001b[90m  change: 'changed',\u001b[39m\n",
      "\u001b[90m  tagName: 'div',\u001b[39m\n",
      "\u001b[90m  attribName: 'style',\u001b[39m\n",
      "\u001b[90m  oldValue: 'font-size:25px',\u001b[39m\n",
      "\u001b[90m  newValue: 'font-size: 25px'\u001b[39m\n",
      "\u001b[90m}\u001b[39m\n",
      "\u001b[90mHTML Sanitizer\u001b[39m \u001b[90mdiv.style changed\u001b[39m \u001b[90m{\u001b[39m\n",
      "\u001b[90m  change: 'changed',\u001b[39m\n",
      "\u001b[90m  tagName: 'div',\u001b[39m\n",
      "\u001b[90m  attribName: 'style',\u001b[39m\n",
      "\u001b[90m  oldValue: 'height:70vh;',\u001b[39m\n",
      "\u001b[90m  newValue: 'height: 70vh'\u001b[39m\n",
      "\u001b[90m}\u001b[39m\n",
      "\u001b[90mHTML Sanitizer\u001b[39m \u001b[90mimg.style changed\u001b[39m \u001b[90m{\u001b[39m\n",
      "\u001b[90m  change: 'changed',\u001b[39m\n",
      "\u001b[90m  tagName: 'img',\u001b[39m\n",
      "\u001b[90m  attribName: 'style',\u001b[39m\n",
      "\u001b[90m  oldValue: 'height:70vh;',\u001b[39m\n",
      "\u001b[90m  newValue: 'height: 70vh'\u001b[39m\n",
      "\u001b[90m}\u001b[39m\n",
      "\u001b[90mHTML Sanitizer\u001b[39m \u001b[90mdiv.style changed\u001b[39m \u001b[90m{\u001b[39m\n",
      "\u001b[90m  change: 'changed',\u001b[39m\n",
      "\u001b[90m  tagName: 'div',\u001b[39m\n",
      "\u001b[90m  attribName: 'style',\u001b[39m\n",
      "\u001b[90m  oldValue: 'height:70vh;',\u001b[39m\n",
      "\u001b[90m  newValue: 'height: 70vh'\u001b[39m\n",
      "\u001b[90m}\u001b[39m\n",
      "\u001b[90mHTML Sanitizer\u001b[39m \u001b[90mimg.style changed\u001b[39m \u001b[90m{\u001b[39m\n",
      "\u001b[90m  change: 'changed',\u001b[39m\n",
      "\u001b[90m  tagName: 'img',\u001b[39m\n",
      "\u001b[90m  attribName: 'style',\u001b[39m\n",
      "\u001b[90m  oldValue: 'height:70vh;',\u001b[39m\n",
      "\u001b[90m  newValue: 'height: 70vh'\u001b[39m\n",
      "\u001b[90m}\u001b[39m\n",
      "\u001b[90mHTML Sanitizer\u001b[39m \u001b[90mdiv.style changed\u001b[39m \u001b[90m{\u001b[39m\n",
      "\u001b[90m  change: 'changed',\u001b[39m\n",
      "\u001b[90m  tagName: 'div',\u001b[39m\n",
      "\u001b[90m  attribName: 'style',\u001b[39m\n",
      "\u001b[90m  oldValue: 'height:70vh;',\u001b[39m\n",
      "\u001b[90m  newValue: 'height: 70vh'\u001b[39m\n",
      "\u001b[90m}\u001b[39m\n",
      "\u001b[90mHTML Sanitizer\u001b[39m \u001b[90mimg.style changed\u001b[39m \u001b[90m{\u001b[39m\n",
      "\u001b[90m  change: 'changed',\u001b[39m\n",
      "\u001b[90m  tagName: 'img',\u001b[39m\n",
      "\u001b[90m  attribName: 'style',\u001b[39m\n",
      "\u001b[90m  oldValue: 'height:70vh;',\u001b[39m\n",
      "\u001b[90m  newValue: 'height: 70vh'\u001b[39m\n",
      "\u001b[90m}\u001b[39m\n",
      "\u001b[90mHTML Sanitizer\u001b[39m \u001b[90mdiv.style changed\u001b[39m \u001b[90m{\u001b[39m\n",
      "\u001b[90m  change: 'changed',\u001b[39m\n",
      "\u001b[90m  tagName: 'div',\u001b[39m\n",
      "\u001b[90m  attribName: 'style',\u001b[39m\n",
      "\u001b[90m  oldValue: 'height:562px;',\u001b[39m\n",
      "\u001b[90m  newValue: 'height: 562px'\u001b[39m\n",
      "\u001b[90m}\u001b[39m\n",
      "\u001b[90mHTML Sanitizer\u001b[39m \u001b[90mimg.style changed\u001b[39m \u001b[90m{\u001b[39m\n",
      "\u001b[90m  change: 'changed',\u001b[39m\n",
      "\u001b[90m  tagName: 'img',\u001b[39m\n",
      "\u001b[90m  attribName: 'style',\u001b[39m\n",
      "\u001b[90m  oldValue: 'height:562px',\u001b[39m\n",
      "\u001b[90m  newValue: 'height: 562px'\u001b[39m\n",
      "\u001b[90m}\u001b[39m\n",
      "\u001b[31mFailed to load resource: the server responded with a status of 404 (Not Found)\u001b[39m\n",
      "\u001b[90mLoading extension: nbextensions_configurator/config_menu/main\u001b[39m\n",
      "\u001b[90mSession: kernel_created (81f09d2c-ec94-40e2-a318-c0fa21f94c21)\u001b[39m\n",
      "\u001b[90mStarting WebSockets:\u001b[39m \u001b[90mws://localhost:8888/api/kernels/a739a6d9-3548-4468-9010-80cea3035887\u001b[39m\n",
      "\u001b[31mFailed to load extension:\u001b[39m \u001b[31m[ 'nbextensions/hide_code/hide_code' ]\u001b[39m \u001b[31m{\u001b[39m\n",
      "\u001b[31m  requireType: 'scripterror',\u001b[39m\n",
      "\u001b[31m  requireModules: [ 'nbextensions/hide_code/hide_code' ],\u001b[39m\n",
      "\u001b[31m  originalError: { isTrusted: true }\u001b[39m\n",
      "\u001b[31m}\u001b[39m\n",
      "\u001b[90mLoading extension: contrib_nbextensions_help_item/main\u001b[39m\n",
      "\u001b[90mLoading extension: rise/main\u001b[39m\n",
      "\u001b[90mLoading extension: hide_input/main\u001b[39m\n",
      "\u001b[90mLoading extension: splitcell/splitcell\u001b[39m\n",
      "\u001b[90mKernel: kernel_connected (a739a6d9-3548-4468-9010-80cea3035887)\u001b[39m\n",
      "\u001b[90mLoading extension: jupyter-js-widgets/extension\u001b[39m\n",
      "\u001b[31mFailed to load resource: the server responded with a status of 404 (Not Found)\u001b[39m\n",
      "\u001b[38;2;255;165;0mWidgets are not available.  Please install widgetsnbextension or ipywidgets 4.0\u001b[39m\n",
      "\u001b[90mLoading extension: jupyter-black-master/jupyter-black\u001b[39m\n",
      "\u001b[90mLoading extension: toc2/main\u001b[39m\n",
      "\u001b[90m[toc2] Notebook fully loaded -- toc2 initialized \u001b[39m\n",
      "\u001b[90mLoading extension: codefolding/main\u001b[39m\n",
      "Loading page finished with status: \u001b[33m200\u001b[39m\n",
      "\u001b[36m\u001b[1mRISE\u001b[22m\u001b[39m\u001b[36m plugin activated\u001b[39m\n",
      "\u001b[31mRefused to apply style from 'http://localhost:8888/notebooks/Lecture09.css' because its MIME type ('text/html') is not a supported stylesheet MIME type, and strict MIME checking is enabled.\u001b[39m\n",
      "\u001b[31mFailed to load resource: the server responded with a status of 404 (Not Found)\u001b[39m\n",
      "\u001b[38;2;255;165;0mFailed to get file chalkboard/2023/EOS240-Lecture10.json. ReadyState: 4, Status: 404\u001b[39m\n",
      "\u001b[90mCodefolding: Wait for\u001b[39m \u001b[90m1000\u001b[39m \u001b[90mms\u001b[39m\n",
      "Printing slide #/slide-4-0 (5/5) ...\u001b[32m\u001b[39m\n",
      "\u001b[32mPrinted \u001b[39m\u001b[32m\u001b[1m5\u001b[22m\u001b[39m\u001b[32m slides\u001b[39m\n"
     ]
    }
   ],
   "source": [
    "nb_list = !jupyter notebook list\n",
    "server = [l for l in nb_list if 'eos240' in l][0].split(' :: ')[0]\n",
    "prefix = server.split('?')[0]\n",
    "token = server.split('?')[1]\n",
    "notebook = 'Lecture09.ipynb'\n",
    "url = prefix+'notebooks/'+notebook+'?'+token\n",
    "!decktape -s '1920x1080' rise $url pdf_slides/Lecture09.pdf"
   ]
  },
  {
   "cell_type": "markdown",
   "metadata": {
    "hide_input": false,
    "slideshow": {
     "slide_type": "slide"
    }
   },
   "source": [
    "<center><div style=\"background: url(images/olivine.png) 75% 50% no-repeat;\n",
    "  width: 1290px;\n",
    "  height: 181px; background-size: 40%;\">\n",
    "</div></center>"
   ]
  },
  {
   "cell_type": "markdown",
   "metadata": {
    "slideshow": {
     "slide_type": "-"
    }
   },
   "source": [
    "### Lecture 9: Partial melting and explaining the crust\n",
    "\n",
    "<div style='font-size:20px'>  \n",
    "\n",
    "1. Partial melting\n",
    "1. Explaining the crust\n",
    "\n",
    "</div>"
   ]
  },
  {
   "cell_type": "markdown",
   "metadata": {
    "slideshow": {
     "slide_type": "-"
    }
   },
   "source": [
    "<div style='font-size:25px'> <i>We acknowledge and respect the lək̓ʷəŋən peoples on whose traditional territory the university stands and the Songhees, Esquimalt and W̱SÁNE&#262; peoples whose historical relationships with the land continue to this day.</i></div>"
   ]
  },
  {
   "cell_type": "markdown",
   "metadata": {
    "slideshow": {
     "slide_type": "slide"
    }
   },
   "source": [
    "Fractional melting: concept and derivation\n",
    "<center>\n",
    "    <div style='height:70vh;'>\n",
    "\t    <img style=\"height:70vh;\" src=\"chalkboard_images/L9_S22_F0.svg\"/>\n",
    "    </div>\n",
    "</center>\n",
    "\n"
   ]
  },
  {
   "cell_type": "markdown",
   "metadata": {
    "slideshow": {
     "slide_type": "slide"
    }
   },
   "source": [
    "Fractional melting: concept and derivation\n",
    "<center>\n",
    "    <div style='height:70vh;'>\n",
    "\t    <img style=\"height:70vh;\" src=\"chalkboard_images/L10_S23_F0.svg\"/>\n",
    "    </div>\n",
    "</center>\n",
    "\n"
   ]
  },
  {
   "cell_type": "markdown",
   "metadata": {
    "slideshow": {
     "slide_type": "slide"
    }
   },
   "source": [
    "<center>\n",
    "    <div style='height:70vh;'>\n",
    "\t    <img style=\"height:70vh;\" src=\"chalkboard_images/L10_S24_F0.svg\"/>\n",
    "    </div>\n",
    "</center>\n",
    "\n"
   ]
  },
  {
   "cell_type": "markdown",
   "metadata": {
    "slideshow": {
     "slide_type": "slide"
    }
   },
   "source": [
    "\n",
    "<center>\n",
    "    <div style='height:562px;'>\n",
    "\t    <img src=\"images/data_raw.png\" style='height:562px'>\n",
    "    </div>\n",
    "</center>\n"
   ]
  },
  {
   "cell_type": "code",
   "execution_count": null,
   "metadata": {
    "slideshow": {
     "slide_type": "skip"
    }
   },
   "outputs": [],
   "source": []
  }
 ],
 "metadata": {
  "celltoolbar": "Slideshow",
  "kernelspec": {
   "display_name": "Python 3",
   "language": "python",
   "name": "python3"
  },
  "language_info": {
   "codemirror_mode": {
    "name": "ipython",
    "version": 3
   },
   "file_extension": ".py",
   "mimetype": "text/x-python",
   "name": "python",
   "nbconvert_exporter": "python",
   "pygments_lexer": "ipython3",
   "version": "3.9.1"
  },
  "rise": {
   "chalkboard": {
    "boardmarkerWidth": 2,
    "readOnly": false,
    "src": "chalkboard/2023/EOS240-Lecture10.json",
    "theme": "whiteboard"
   },
   "enable_chalkboard": true
  },
  "toc": {
   "base_numbering": 1,
   "nav_menu": {
    "height": "229px",
    "width": "213px"
   },
   "number_sections": false,
   "sideBar": true,
   "skip_h1_title": false,
   "title_cell": "Table of Contents",
   "title_sidebar": "Contents",
   "toc_cell": false,
   "toc_position": {
    "height": "calc(100% - 180px)",
    "left": "10px",
    "top": "150px",
    "width": "426.667px"
   },
   "toc_section_display": true,
   "toc_window_display": false
  },
  "toc-autonumbering": true,
  "toc-showcode": false,
  "toc-showmarkdowntxt": false,
  "toc-showtags": false
 },
 "nbformat": 4,
 "nbformat_minor": 4
}
