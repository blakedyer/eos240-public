{
 "cells": [
  {
   "cell_type": "markdown",
   "id": "96395cc0",
   "metadata": {
    "toc": true
   },
   "source": [
    "<h1>Table of Contents<span class=\"tocSkip\"></span></h1>\n",
    "<div class=\"toc\"><ul class=\"toc-item\"></ul></div>"
   ]
  },
  {
   "cell_type": "code",
   "execution_count": 8,
   "id": "e5e51506",
   "metadata": {},
   "outputs": [],
   "source": [
    "import pandas as pd"
   ]
  },
  {
   "cell_type": "code",
   "execution_count": 41,
   "id": "5f91f2cd",
   "metadata": {},
   "outputs": [],
   "source": []
  },
  {
   "cell_type": "code",
   "execution_count": 59,
   "id": "033445c6",
   "metadata": {},
   "outputs": [],
   "source": [
    "df = pd.read_csv('Outline/tables/schedule.csv', names = ['week','day','mon','date','color','activity','topic','reading'])\n",
    "df = df.fillna('')\n",
    "\n",
    "cmap = {}\n",
    "cmap['myblue']=\"#3D4F7D\"\n",
    "cmap['myred']=\"#CD4F38\"\n",
    "cmap['mygreen']=\"#657060\"\n",
    "cmap['myorange']=\"#E48C2A\"\n",
    "cmap['mygreen2']=\"#44A57C\"\n",
    "\n",
    "lines = \"\"\n",
    "for row in df.iterrows():\n",
    "    color = str(cmap[row[1]['color']])\n",
    "    week = row[1]['week']\n",
    "    if type(week) is str:\n",
    "        week = week\n",
    "    else:\n",
    "        week = f\"{week:0.0f}\"\n",
    "    dayn = row[1]['date']\n",
    "    if type(dayn) is str:\n",
    "        dayn = dayn\n",
    "    else:\n",
    "        dayn = f\"{dayn:0.0f}\"\n",
    "    date = f\"{row[1]['day']} {row[1]['mon']} {dayn}\"\n",
    "    top1 = row[1]['activity']\n",
    "    top2 = row[1]['topic']\n",
    "    line = f\"\"\"<div style=\"text-align:center\">{week}</div>\n",
    "    <div style=\"text-align:right\">{date}</div>\n",
    "    <div style=\"text-align:left\"><span style='color:{color}'>{top1}</span></div>\n",
    "    <div style=\"text-align:right\"><span style='color:{color}'>{top2}</span></div>\n",
    "    \"\"\"\n",
    "    lines += line\n",
    "\n",
    "table = f\"\"\"<div style=\"display: grid;grid-column-gap: 10px;\n",
    "grid-template-columns: 6% 12% 17% 55%;font-weight:bold\">\n",
    "<div style=\"text-align:center\">Week</div>\n",
    "<div style=\"text-align:right\">Date</div>\n",
    "<div style=\"text-align:left\"> </div>\n",
    "<div style=\"text-align:right\">Topic</div>\n",
    "{lines}\n",
    "</div>\n",
    "\"\"\"\n",
    "\n",
    "with open(f\"Outline/html/calendar.html\",\"w+\") as f:\n",
    "        f.writelines(table)\n",
    "\n",
    "df = pd.read_csv('Outline/tables/learning_outcomes.csv', names = ['outcome'])\n",
    "lines = \"\"\n",
    "for row in df.iterrows():\n",
    "    outcome=row[1]['outcome']\n",
    "    line = f\"\"\"<li>{outcome}</li>\n",
    "    \"\"\"\n",
    "    lines += line\n",
    "\n",
    "table = f\"\"\"<ul>\n",
    "{lines}\n",
    "</ul>\n",
    "\"\"\"\n",
    "\n",
    "with open(f\"Outline/html/learning_outcomes.html\",\"w+\") as f:\n",
    "        f.writelines(table)"
   ]
  },
  {
   "cell_type": "code",
   "execution_count": 64,
   "id": "ab56142c",
   "metadata": {},
   "outputs": [],
   "source": []
  },
  {
   "cell_type": "code",
   "execution_count": 60,
   "id": "24d0c3d7",
   "metadata": {},
   "outputs": [],
   "source": [
    "\n"
   ]
  },
  {
   "cell_type": "code",
   "execution_count": 58,
   "id": "3d7df1ff",
   "metadata": {},
   "outputs": [
    {
     "data": {
      "text/plain": [
       "''"
      ]
     },
     "execution_count": 58,
     "metadata": {},
     "output_type": "execute_result"
    }
   ],
   "source": []
  },
  {
   "cell_type": "code",
   "execution_count": null,
   "id": "02258444",
   "metadata": {},
   "outputs": [],
   "source": []
  }
 ],
 "metadata": {
  "kernelspec": {
   "display_name": "lig-dev-py39-test",
   "language": "python",
   "name": "lig-dev-py39-test"
  },
  "language_info": {
   "codemirror_mode": {
    "name": "ipython",
    "version": 3
   },
   "file_extension": ".py",
   "mimetype": "text/x-python",
   "name": "python",
   "nbconvert_exporter": "python",
   "pygments_lexer": "ipython3",
   "version": "3.11.0"
  },
  "toc": {
   "base_numbering": 1,
   "nav_menu": {},
   "number_sections": true,
   "sideBar": true,
   "skip_h1_title": false,
   "title_cell": "Table of Contents",
   "title_sidebar": "Contents",
   "toc_cell": true,
   "toc_position": {},
   "toc_section_display": true,
   "toc_window_display": false
  }
 },
 "nbformat": 4,
 "nbformat_minor": 5
}
